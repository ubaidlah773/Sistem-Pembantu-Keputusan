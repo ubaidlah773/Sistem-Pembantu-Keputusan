{
  "nbformat": 4,
  "nbformat_minor": 0,
  "metadata": {
    "colab": {
      "provenance": []
    },
    "kernelspec": {
      "name": "python3",
      "display_name": "Python 3"
    },
    "language_info": {
      "name": "python"
    }
  },
  "cells": [
    {
      "cell_type": "code",
      "execution_count": null,
      "metadata": {
        "id": "fGbObsm4JDGS"
      },
      "outputs": [],
      "source": [
        "import numpy as np"
      ]
    },
    {
      "cell_type": "code",
      "source": [
        "alternatif = ['Harga', 'Kualitas', 'Fitur', 'Populer', 'Purna Jual', 'Keawetan']  # Kriteria\n",
        "bobot = np.array([0.2, 0.25, 0.2, 0.125, 0.125, 0.1])                               # Bobot setiap kriteria\n",
        "dataHp = {\n",
        "    'Galaxy' : [3500, 70, 10, 80, 3000, 36],\n",
        "    'Iphone' : [4500, 90, 10, 60, 2500, 48],\n",
        "    'BB': [4000, 80, 9, 90, 2000, 48],\n",
        "    'Lumia' : [4000, 70, 8, 50, 1500, 60]\n",
        "}"
      ],
      "metadata": {
        "id": "T2U25pm-JNZa"
      },
      "execution_count": null,
      "outputs": []
    },
    {
      "cell_type": "code",
      "source": [
        "pembagi = np.array([min([dataHp[k][i] for k in dataHp]) if i == 0 else max([dataHp[k][i] for k in dataHp]) for i in range(len(alternatif))])\n",
        "\n",
        "normalisasi = {}\n",
        "for k, v in dataHp.items():\n",
        "    normalisasi[k] = [v[i] / pembagi[i] if i != 0 else pembagi[i] / v[i] for i in range(len(alternatif))]\n",
        "\n",
        "#\n",
        "preferensi = {}\n",
        "for k, v in normalisasi.items():\n",
        "    preferensi[k] = sum(bobot[i] * v[i] for i in range(len(alternatif)))"
      ],
      "metadata": {
        "id": "XW_lnb_6LVm_"
      },
      "execution_count": null,
      "outputs": []
    },
    {
      "cell_type": "code",
      "source": [
        "print(pembagi)"
      ],
      "metadata": {
        "colab": {
          "base_uri": "https://localhost:8080/"
        },
        "id": "f83SSOKpP4as",
        "outputId": "3ff148bd-bacb-4478-ab89-52328ddf090e"
      },
      "execution_count": null,
      "outputs": [
        {
          "output_type": "stream",
          "name": "stdout",
          "text": [
            "[3500   90   10   90 3000   60]\n"
          ]
        }
      ]
    },
    {
      "cell_type": "code",
      "source": [
        "# Cetak hasil\n",
        "print(\"Nilai Preferensi:\")\n",
        "for alt, pref in preferensi.items():\n",
        "    print(f\"{alt}: {pref:.2f}\")\n"
      ],
      "metadata": {
        "colab": {
          "base_uri": "https://localhost:8080/"
        },
        "id": "e1vb_MZsNE-6",
        "outputId": "d79310e4-327f-4e9d-c8e4-d0a037a042f3"
      },
      "execution_count": null,
      "outputs": [
        {
          "output_type": "stream",
          "name": "stdout",
          "text": [
            "Nilai Preferensi:\n",
            "Galaxy: 0.89\n",
            "Iphone: 0.87\n",
            "BB: 0.87\n",
            "Lumia: 0.76\n"
          ]
        }
      ]
    }
  ]
}