{
  "nbformat": 4,
  "nbformat_minor": 0,
  "metadata": {
    "colab": {
      "provenance": []
    },
    "kernelspec": {
      "name": "python3",
      "display_name": "Python 3"
    },
    "language_info": {
      "name": "python"
    }
  },
  "cells": [
    {
      "cell_type": "code",
      "source": [
        "import numpy as np"
      ],
      "metadata": {
        "id": "3L-shWJWMHV3"
      },
      "execution_count": null,
      "outputs": []
    },
    {
      "cell_type": "code",
      "source": [
        "# Data\n",
        "alternatives = ['Galaxy', 'Iphone', 'BB', 'Lumia']\n",
        "criteria = ['harga', 'kualitas', 'fitur', 'populer', 'purna jual', 'keawetan']\n",
        "benefits = [5, 4, 5, 3, 2, 1]\n",
        "weights = [0.25, 0.2, 0.25, 0.15, 0.1, 0.05]\n",
        "costs = np.array([\n",
        "    [3500, 70, 10, 80, 3000, 36],\n",
        "    [4500, 90, 10, 60, 2500, 48],\n",
        "    [4000, 80, 9, 90, 2000, 48],\n",
        "    [4000, 70, 8, 50, 1500, 60]\n",
        "])"
      ],
      "metadata": {
        "id": "j4h1N2wLMJq0"
      },
      "execution_count": null,
      "outputs": []
    },
    {
      "cell_type": "code",
      "source": [
        "# Pangkat\n",
        "pangkat = np.array([-0.25, 0.2, 0.25, 0.15, 0.1, 0.05])"
      ],
      "metadata": {
        "id": "C9pMhlDRMMQW"
      },
      "execution_count": null,
      "outputs": []
    },
    {
      "cell_type": "code",
      "source": [
        "# Normalisasi\n",
        "normalized_costs = costs / costs.max(axis=0)"
      ],
      "metadata": {
        "id": "sZoAPBSZMOx9"
      },
      "execution_count": null,
      "outputs": []
    },
    {
      "cell_type": "code",
      "source": [
        "# Perhitungan Weighted Product\n",
        "weighted_scores = np.prod(np.power(normalized_costs, pangkat), axis=1)\n",
        "weighted_scores = weighted_scores / np.sum(weighted_scores)\n"
      ],
      "metadata": {
        "id": "5uRtsvMFMRk-"
      },
      "execution_count": null,
      "outputs": []
    },
    {
      "cell_type": "code",
      "execution_count": null,
      "metadata": {
        "colab": {
          "base_uri": "https://localhost:8080/"
        },
        "id": "XqRs0dvVJQ9g",
        "outputId": "ab030709-3028-4447-a816-74c87196c880"
      },
      "outputs": [
        {
          "output_type": "stream",
          "name": "stdout",
          "text": [
            "Hasil perankingan:\n",
            "1. Galaxy: 0.26900316588502793\n",
            "2. BB: 0.2580650018222965\n",
            "3. Iphone: 0.2534475920754799\n",
            "4. Lumia: 0.2194842402171956\n"
          ]
        }
      ],
      "source": [
        "# Menampilkan hasil\n",
        "print(\"Hasil perankingan:\")\n",
        "ranked_indices = np.argsort(weighted_scores)[::-1]\n",
        "for i, idx in enumerate(ranked_indices):\n",
        "    print(f\"{i+1}. {alternatives[idx]}: {weighted_scores[idx]}\")\n"
      ]
    }
  ]
}