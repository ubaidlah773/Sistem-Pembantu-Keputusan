{
  "nbformat": 4,
  "nbformat_minor": 0,
  "metadata": {
    "colab": {
      "provenance": []
    },
    "kernelspec": {
      "name": "python3",
      "display_name": "Python 3"
    },
    "language_info": {
      "name": "python"
    }
  },
  "cells": [
    {
      "cell_type": "code",
      "source": [
        "import numpy as np"
      ],
      "metadata": {
        "id": "FmN-p9SxpfuX"
      },
      "execution_count": null,
      "outputs": []
    },
    {
      "cell_type": "code",
      "source": [
        "# Data calon mahasiswa\n",
        "data = {\n",
        "    'A': [80, 85, 90, 75],\n",
        "    'B': [75, 90, 85, 80],\n",
        "    'C': [85, 80, 70, 90],\n",
        "    'D': [70, 95, 75, 85],\n",
        "    'E': [90, 75, 80, 95]\n",
        "}\n"
      ],
      "metadata": {
        "id": "D5kp2iOsphZy"
      },
      "execution_count": null,
      "outputs": []
    },
    {
      "cell_type": "code",
      "source": [
        "data"
      ],
      "metadata": {
        "colab": {
          "base_uri": "https://localhost:8080/"
        },
        "id": "goHhhJZBJj4F",
        "outputId": "fb31efc0-53bb-4e89-97b2-f7ca32bd7e91"
      },
      "execution_count": null,
      "outputs": [
        {
          "output_type": "execute_result",
          "data": {
            "text/plain": [
              "{'A': [80, 85, 90, 75],\n",
              " 'B': [75, 90, 85, 80],\n",
              " 'C': [85, 80, 70, 90],\n",
              " 'D': [70, 95, 75, 85],\n",
              " 'E': [90, 75, 80, 95]}"
            ]
          },
          "metadata": {},
          "execution_count": 13
        }
      ]
    },
    {
      "cell_type": "code",
      "source": [
        "#Bobot untuk setiap kriteria\n",
        "bobot = np.array([0.3, 0.2, 0.4, 0.1])"
      ],
      "metadata": {
        "id": "tVdW3H9KpkBD"
      },
      "execution_count": null,
      "outputs": []
    },
    {
      "cell_type": "code",
      "source": [
        "# Normalisasi matriks keputusan\n",
        "def normalisasi(data):\n",
        "    norm_data = {}\n",
        "    for key in data.keys():\n",
        "        norm_data[key] = data[key] / np.sqrt(sum(np.array(data[key])**2))\n",
        "    return norm_data\n",
        "\n",
        "norm_data = normalisasi(data)\n"
      ],
      "metadata": {
        "id": "wihYng_hpmqU"
      },
      "execution_count": null,
      "outputs": []
    },
    {
      "cell_type": "code",
      "source": [
        "# Menghitung matriks normalisasi terbobot\n",
        "def matriks_terbobot(norm_data, bobot):\n",
        "    terbobot_data = {}\n",
        "    for key in norm_data.keys():\n",
        "        terbobot_data[key] = norm_data[key] * bobot\n",
        "    return terbobot_data\n",
        "\n",
        "terbobot_data = matriks_terbobot(norm_data, bobot)"
      ],
      "metadata": {
        "id": "awlEzMxRpoti"
      },
      "execution_count": null,
      "outputs": []
    },
    {
      "cell_type": "code",
      "source": [
        "# Menentukan solusi ideal positif (A+) dan solusi ideal negatif (A-)\n",
        "A_positif = np.max(np.array(list(terbobot_data.values())), axis=0)\n",
        "A_negatif = np.min(np.array(list(terbobot_data.values())), axis=0)"
      ],
      "metadata": {
        "id": "bcLirqqUpsaB"
      },
      "execution_count": null,
      "outputs": []
    },
    {
      "cell_type": "code",
      "source": [
        "# Menghitung jarak Euclidean antara setiap alternatif dan solusi ideal positif dan negatif\n",
        "def jarak_euclidean(terbobot_data, A_positif, A_negatif):\n",
        "    D_positif = {}\n",
        "    D_negatif = {}\n",
        "    for key in terbobot_data.keys():\n",
        "        D_positif[key] = np.sqrt(sum((terbobot_data[key] - A_positif)**2))\n",
        "        D_negatif[key] = np.sqrt(sum((terbobot_data[key] - A_negatif)**2))\n",
        "    return D_positif, D_negatif\n",
        "\n",
        "D_positif, D_negatif = jarak_euclidean(terbobot_data, A_positif, A_negatif)"
      ],
      "metadata": {
        "id": "rMQvZn77putZ"
      },
      "execution_count": null,
      "outputs": []
    },
    {
      "cell_type": "code",
      "source": [
        "# Menghitung nilai preferensi relatif (R) untuk setiap alternatif\n",
        "def nilai_preferensi_relatif(D_positif, D_negatif):\n",
        "    R = {}\n",
        "    for key in D_positif.keys():\n",
        "        R[key] = D_negatif[key] / (D_positif[key] + D_negatif[key])\n",
        "    return R\n",
        "\n",
        "R = nilai_preferensi_relatif(D_positif, D_negatif)\n",
        "\n",
        "# Menampilkan nilai preferensi relatif untuk setiap alternatif\n",
        "print(\"Nilai Preferensi Relatif (R) untuk setiap alternatif:\")\n",
        "for mahasiswa, nilai in R.items():\n",
        "    print(f\"Calon Mahasiswa {mahasiswa}: R = {nilai:.4f}\")\n"
      ],
      "metadata": {
        "colab": {
          "base_uri": "https://localhost:8080/"
        },
        "id": "EDo6hSsXp14x",
        "outputId": "43b17e15-cdb4-4844-c932-6d24d17d30fa"
      },
      "execution_count": null,
      "outputs": [
        {
          "output_type": "stream",
          "name": "stdout",
          "text": [
            "Nilai Preferensi Relatif (R) untuk setiap alternatif:\n",
            "Calon Mahasiswa A: R = 0.7067\n",
            "Calon Mahasiswa B: R = 0.6000\n",
            "Calon Mahasiswa C: R = 0.3873\n",
            "Calon Mahasiswa D: R = 0.4069\n",
            "Calon Mahasiswa E: R = 0.4601\n"
          ]
        }
      ]
    },
    {
      "cell_type": "code",
      "execution_count": null,
      "metadata": {
        "colab": {
          "base_uri": "https://localhost:8080/"
        },
        "id": "RMXgYNYMlieC",
        "outputId": "cc5cf2b8-ee34-4f1e-d9dc-563e7fd20008"
      },
      "outputs": [
        {
          "output_type": "stream",
          "name": "stdout",
          "text": [
            "Ranking alternatif:\n",
            "1. Calon Mahasiswa A: Skor Proksimitas = 0.7067\n",
            "2. Calon Mahasiswa B: Skor Proksimitas = 0.6000\n",
            "3. Calon Mahasiswa E: Skor Proksimitas = 0.4601\n",
            "4. Calon Mahasiswa D: Skor Proksimitas = 0.4069\n",
            "5. Calon Mahasiswa C: Skor Proksimitas = 0.3873\n"
          ]
        }
      ],
      "source": [
        "# Ranking alternatif\n",
        "ranking = sorted(R.items(), key=lambda x: x[1], reverse=True)\n",
        "\n",
        "# Menampilkan hasil\n",
        "print(\"Ranking alternatif:\")\n",
        "for rank, (mahasiswa, skor) in enumerate(ranking, start=1):\n",
        "    print(f\"{rank}. Calon Mahasiswa {mahasiswa}: Skor Proksimitas = {skor:.4f}\")\n"
      ]
    }
  ]
}