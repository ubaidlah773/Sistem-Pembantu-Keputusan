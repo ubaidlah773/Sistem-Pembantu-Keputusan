{
  "nbformat": 4,
  "nbformat_minor": 0,
  "metadata": {
    "colab": {
      "provenance": []
    },
    "kernelspec": {
      "name": "python3",
      "display_name": "Python 3"
    },
    "language_info": {
      "name": "python"
    }
  },
  "cells": [
    {
      "cell_type": "code",
      "source": [
        "import numpy as np"
      ],
      "metadata": {
        "id": "EfVrXysWu5sX"
      },
      "execution_count": null,
      "outputs": []
    },
    {
      "cell_type": "code",
      "source": [
        "# Data\n",
        "criteria_names = ['harga', 'kualitas', 'fitur', 'populer', 'purna jual', 'keawetan']\n",
        "benefits = np.array([5, 4, 5, 3, 2, 1])\n",
        "alternatives = ['Galaxy', 'Iphone', 'BB', 'Lumia']\n",
        "alternatives_matrix = np.array([\n",
        "    [3500, 70, 10, 80, 3000, 36],\n",
        "    [4500, 90, 10, 60, 2500, 48],\n",
        "    [4000, 80, 9, 90, 2000, 48],\n",
        "    [4000, 70, 8, 50, 1500, 60]\n",
        "])"
      ],
      "metadata": {
        "id": "gkZvDzsnu7_q"
      },
      "execution_count": null,
      "outputs": []
    },
    {
      "cell_type": "code",
      "source": [
        "normalized = np.sum(benefits, axis=0)"
      ],
      "metadata": {
        "id": "_qGtJ7t_xtBd"
      },
      "execution_count": null,
      "outputs": []
    },
    {
      "cell_type": "code",
      "source": [
        "priority = benefits / normalized"
      ],
      "metadata": {
        "id": "9yDVrYeyyRUU"
      },
      "execution_count": null,
      "outputs": []
    },
    {
      "cell_type": "code",
      "source": [
        "priority_weight = np.mean(benefits, axis = 0)"
      ],
      "metadata": {
        "id": "GN0TCSVlyaip"
      },
      "execution_count": null,
      "outputs": []
    },
    {
      "cell_type": "code",
      "source": [
        "consisten = np.dot(benefits, priority_weight) / priority_weight"
      ],
      "metadata": {
        "id": "lXCcDATBzo-C"
      },
      "execution_count": null,
      "outputs": []
    },
    {
      "cell_type": "code",
      "source": [
        "ratio = np.array([0, 0, 0.58, 0.9, 1.12, 1.24, 1.32, 1.41, 1.46, 1.49])\n",
        "\n",
        "n = benefits.shape[0]\n",
        "lamda =np.mean(consisten)\n",
        "\n",
        "RI = ratio[n]\n",
        "CI = (lamda - n)/(n-1)\n",
        "CR = CI/RI\n",
        "\n",
        "print(CR)"
      ],
      "metadata": {
        "colab": {
          "base_uri": "https://localhost:8080/"
        },
        "id": "ZxmLQpuq0C2k",
        "outputId": "c58b46e7-4554-4044-c813-03e5b73aa0dd"
      },
      "execution_count": null,
      "outputs": [
        {
          "output_type": "stream",
          "name": "stdout",
          "text": [
            "-0.40404040404040403\n"
          ]
        }
      ]
    },
    {
      "cell_type": "code",
      "source": [
        "# Normalisasi matriks alternatif\n",
        "normalized_matrix = alternatives_matrix / np.max(alternatives_matrix, axis=0)"
      ],
      "metadata": {
        "id": "Nt-KDoS4vAC8"
      },
      "execution_count": null,
      "outputs": []
    },
    {
      "cell_type": "code",
      "source": [
        "# Menghitung nilai prioritas relatif\n",
        "weighted_normalized_matrix = normalized_matrix * benefits\n",
        "criteria_priorities = np.mean(weighted_normalized_matrix, axis=0)"
      ],
      "metadata": {
        "id": "Bs5jgqIqvGkh"
      },
      "execution_count": null,
      "outputs": []
    },
    {
      "cell_type": "code",
      "source": [
        "# Membangun matriks perbandingan berpasangan\n",
        "pairwise_comparison_matrix = np.zeros((len(criteria_names), len(criteria_names)))\n",
        "for i in range(len(criteria_names)):\n",
        "    for j in range(len(criteria_names)):\n",
        "        pairwise_comparison_matrix[i, j] = criteria_priorities[i] / criteria_priorities[j]"
      ],
      "metadata": {
        "id": "oHOGOVhMwdSW"
      },
      "execution_count": null,
      "outputs": []
    },
    {
      "cell_type": "code",
      "source": [
        "# Menormalisasi matriks perbandingan berpasangan\n",
        "normalized_pairwise_comparison_matrix = pairwise_comparison_matrix / np.sum(pairwise_comparison_matrix, axis=0)"
      ],
      "metadata": {
        "id": "vsnwnDEvwgc6"
      },
      "execution_count": null,
      "outputs": []
    },
    {
      "cell_type": "code",
      "source": [
        "# Menghitung nilai eigenvalue dan eigenvector\n",
        "eigenvalue, eigenvector = np.linalg.eig(normalized_pairwise_comparison_matrix)"
      ],
      "metadata": {
        "id": "0t6gahtvwi10"
      },
      "execution_count": null,
      "outputs": []
    },
    {
      "cell_type": "code",
      "source": [
        "# Mengambil eigenvector terkait dengan eigenvalue maksimum\n",
        "max_eigenvalue_index = np.argmax(eigenvalue)\n",
        "principal_eigenvector = np.real(eigenvector[:, max_eigenvalue_index])\n"
      ],
      "metadata": {
        "id": "vMA07r7Jwll6"
      },
      "execution_count": null,
      "outputs": []
    },
    {
      "cell_type": "code",
      "source": [
        "# Menghitung konsistensi\n",
        "consistency_index = (np.max(eigenvalue) - len(criteria_names)) / (len(criteria_names) - 1)\n",
        "random_index = {1: 0, 2: 0, 3: 0.58, 4: 0.9, 5: 1.12, 6: 1.24, 7: 1.32, 8: 1.41, 9: 1.45, 10: 1.49}\n",
        "consistency_ratio = consistency_index / random_index[len(criteria_names)]\n",
        "\n",
        "# Menghitung peringkat alternatif\n",
        "alternative_ranking = np.dot(normalized_matrix, principal_eigenvector)\n"
      ],
      "metadata": {
        "id": "Ij5eya88xemU"
      },
      "execution_count": null,
      "outputs": []
    },
    {
      "cell_type": "code",
      "execution_count": null,
      "metadata": {
        "colab": {
          "base_uri": "https://localhost:8080/"
        },
        "id": "5bhQjg-jMYih",
        "outputId": "686afda3-c3db-4497-83e3-ed4c8f3900cf"
      },
      "outputs": [
        {
          "output_type": "stream",
          "name": "stdout",
          "text": [
            "Prioritas relatif kriteria:\n",
            "harga: -0.5674626280802829\n",
            "kualitas: -0.4397835367622192\n",
            "fitur: -0.5905157973460442\n",
            "populer: -0.2979178797421485\n",
            "purna jual: -0.19151863697709542\n",
            "keawetan: -0.10214327305445095\n",
            "\n",
            "Nilai eigenvalue: (1+0j)\n",
            "Consistency index: (-1+0j)\n",
            "Consistency ratio: (-0.8064516129032259+0j)\n",
            "\n",
            "Konsistensi terpenuhi.\n",
            "\n",
            "Peringkat alternatif:\n",
            "1. Lumia: -1.6822902494963385\n",
            "2. Galaxy: -1.8915499750263327\n",
            "3. BB: -1.9341057314196588\n",
            "4. Iphone: -2.0376873646077858\n"
          ]
        }
      ],
      "source": [
        "# Menampilkan hasil\n",
        "print(\"Prioritas relatif kriteria:\")\n",
        "for i, name in enumerate(criteria_names):\n",
        "    print(f\"{name}: {principal_eigenvector[i]}\")\n",
        "\n",
        "print(\"\\nNilai eigenvalue:\", np.max(eigenvalue))\n",
        "print(\"Consistency index:\", consistency_index)\n",
        "print(\"Consistency ratio:\", consistency_ratio)\n",
        "\n",
        "if consistency_ratio < 0.1:\n",
        "    print(\"\\nKonsistensi terpenuhi.\")\n",
        "else:\n",
        "    print(\"\\nKonsistensi tidak terpenuhi. Periksa kembali perbandingan kriteria.\")\n",
        "\n",
        "print(\"\\nPeringkat alternatif:\")\n",
        "alternative_ranking_indices = np.argsort(alternative_ranking)[::-1]\n",
        "for i, idx in enumerate(alternative_ranking_indices):\n",
        "    print(f\"{i+1}. {alternatives[idx]}: {alternative_ranking[idx]}\")\n"
      ]
    }
  ]
}